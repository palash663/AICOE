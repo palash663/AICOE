{
  "nbformat": 4,
  "nbformat_minor": 0,
  "metadata": {
    "colab": {
      "provenance": []
    },
    "kernelspec": {
      "name": "python3",
      "display_name": "Python 3"
    },
    "language_info": {
      "name": "python"
    }
  },
  "cells": [
    {
      "cell_type": "code",
      "execution_count": 16,
      "metadata": {
        "id": "JBre1N1TCSVt"
      },
      "outputs": [],
      "source": [
        "# Library Imports\n",
        "import pandas as pd\n",
        "import numpy as np\n",
        "import tensorflow as tf\n",
        "from tensorflow.keras.callbacks import EarlyStopping\n",
        "from tensorflow.keras.layers import Dense, Dropout\n",
        "from tensorflow.keras.regularizers import l1, l2\n",
        "from tensorflow.keras.models import Sequential\n",
        "from tensorflow.keras.optimizers import Adam\n",
        "from sklearn.model_selection import train_test_split\n",
        "from sklearn.preprocessing import StandardScaler\n",
        "from imblearn.over_sampling import ADASYN\n",
        "from sklearn.metrics import precision_score, recall_score, f1_score, confusion_matrix"
      ]
    },
    {
      "cell_type": "code",
      "source": [
        "# Load the cc table\n",
        "cc_df = pd.read_csv('/content/cc_info.csv')\n",
        "\n",
        "# Load the transactions table\n",
        "transaction_df = pd.read_csv('/content/transactions.csv')\n",
        "\n",
        "# Perform inner join on the \"credit_card\" column\n",
        "merged_data = pd.merge(transaction_df, cc_df, on=\"credit_card\", how=\"inner\")\n",
        "\n",
        "# Print the merged data\n",
        "print(merged_data)"
      ],
      "metadata": {
        "colab": {
          "base_uri": "https://localhost:8080/"
        },
        "id": "m9JKFnwMOXQg",
        "outputId": "1ac3886d-b418-4255-b405-c1746e3b0712"
      },
      "execution_count": 2,
      "outputs": [
        {
          "output_type": "stream",
          "name": "stdout",
          "text": [
            "             credit_card                 date  transaction_dollar_amount  \\\n",
            "0       1003715054175576  2015-09-11 00:32:40                      43.78   \n",
            "1       1003715054175576  2015-10-24 22:23:08                     103.15   \n",
            "2       1003715054175576  2015-10-26 18:19:36                      48.55   \n",
            "3       1003715054175576  2015-10-22 19:41:10                     136.18   \n",
            "4       1003715054175576  2015-10-26 20:08:22                      71.82   \n",
            "...                  ...                  ...                        ...   \n",
            "294583  9999757432802760  2015-09-10 19:43:33                     127.23   \n",
            "294584  9999757432802760  2015-08-06 21:00:13                      84.90   \n",
            "294585  9999757432802760  2015-09-22 16:15:47                      77.54   \n",
            "294586  9999757432802760  2015-08-27 18:08:24                     144.05   \n",
            "294587  9999757432802760  2015-08-22 00:14:52                     154.36   \n",
            "\n",
            "             Long        Lat        city state  zipcode  credit_card_limit  \n",
            "0      -80.174132  40.267370     Houston    PA    15342              20000  \n",
            "1      -80.194240  40.180114     Houston    PA    15342              20000  \n",
            "2      -80.211033  40.313004     Houston    PA    15342              20000  \n",
            "3      -80.174138  40.290895     Houston    PA    15342              20000  \n",
            "4      -80.238720  40.166719     Houston    PA    15342              20000  \n",
            "...           ...        ...         ...   ...      ...                ...  \n",
            "294583 -82.360952  32.978497  Louisville    GA    30434               6000  \n",
            "294584 -82.322721  33.061071  Louisville    GA    30434               6000  \n",
            "294585 -82.442130  32.949983  Louisville    GA    30434               6000  \n",
            "294586 -82.398587  32.976162  Louisville    GA    30434               6000  \n",
            "294587 -82.389680  33.068351  Louisville    GA    30434               6000  \n",
            "\n",
            "[294588 rows x 9 columns]\n"
          ]
        }
      ]
    },
    {
      "cell_type": "code",
      "source": [
        "# Group by credit_card and find the most occurred latitude and longitude\n",
        "most_occurred_lat_lng = merged_data.groupby('credit_card')['Lat', 'Long'].agg(lambda x: x.value_counts().index[0]).reset_index()\n",
        "\n",
        "# Rename the columns\n",
        "most_occurred_lat_lng.columns = ['credit_card', 'Lat_most_occurred', 'Long_most_occurred']\n",
        "\n",
        "# Merge the most_occurred_lat_lng DataFrame with the merged_data DataFrame\n",
        "merged_data_df = pd.merge(merged_data, most_occurred_lat_lng, on='credit_card', how='left')\n",
        "\n",
        "print(merged_data_df)\n"
      ],
      "metadata": {
        "colab": {
          "base_uri": "https://localhost:8080/"
        },
        "id": "q9ssm8mqPUC7",
        "outputId": "a48c89a3-b27e-4691-bca1-0455440cbf4f"
      },
      "execution_count": 3,
      "outputs": [
        {
          "output_type": "stream",
          "name": "stderr",
          "text": [
            "<ipython-input-3-70902089cd65>:2: FutureWarning: Indexing with multiple keys (implicitly converted to a tuple of keys) will be deprecated, use a list instead.\n",
            "  most_occurred_lat_lng = merged_data.groupby('credit_card')['Lat', 'Long'].agg(lambda x: x.value_counts().index[0]).reset_index()\n"
          ]
        },
        {
          "output_type": "stream",
          "name": "stdout",
          "text": [
            "             credit_card                 date  transaction_dollar_amount  \\\n",
            "0       1003715054175576  2015-09-11 00:32:40                      43.78   \n",
            "1       1003715054175576  2015-10-24 22:23:08                     103.15   \n",
            "2       1003715054175576  2015-10-26 18:19:36                      48.55   \n",
            "3       1003715054175576  2015-10-22 19:41:10                     136.18   \n",
            "4       1003715054175576  2015-10-26 20:08:22                      71.82   \n",
            "...                  ...                  ...                        ...   \n",
            "294583  9999757432802760  2015-09-10 19:43:33                     127.23   \n",
            "294584  9999757432802760  2015-08-06 21:00:13                      84.90   \n",
            "294585  9999757432802760  2015-09-22 16:15:47                      77.54   \n",
            "294586  9999757432802760  2015-08-27 18:08:24                     144.05   \n",
            "294587  9999757432802760  2015-08-22 00:14:52                     154.36   \n",
            "\n",
            "             Long        Lat        city state  zipcode  credit_card_limit  \\\n",
            "0      -80.174132  40.267370     Houston    PA    15342              20000   \n",
            "1      -80.194240  40.180114     Houston    PA    15342              20000   \n",
            "2      -80.211033  40.313004     Houston    PA    15342              20000   \n",
            "3      -80.174138  40.290895     Houston    PA    15342              20000   \n",
            "4      -80.238720  40.166719     Houston    PA    15342              20000   \n",
            "...           ...        ...         ...   ...      ...                ...   \n",
            "294583 -82.360952  32.978497  Louisville    GA    30434               6000   \n",
            "294584 -82.322721  33.061071  Louisville    GA    30434               6000   \n",
            "294585 -82.442130  32.949983  Louisville    GA    30434               6000   \n",
            "294586 -82.398587  32.976162  Louisville    GA    30434               6000   \n",
            "294587 -82.389680  33.068351  Louisville    GA    30434               6000   \n",
            "\n",
            "        Lat_most_occurred  Long_most_occurred  \n",
            "0                40.26737          -80.174132  \n",
            "1                40.26737          -80.174132  \n",
            "2                40.26737          -80.174132  \n",
            "3                40.26737          -80.174132  \n",
            "4                40.26737          -80.174132  \n",
            "...                   ...                 ...  \n",
            "294583           32.96222          -82.450841  \n",
            "294584           32.96222          -82.450841  \n",
            "294585           32.96222          -82.450841  \n",
            "294586           32.96222          -82.450841  \n",
            "294587           32.96222          -82.450841  \n",
            "\n",
            "[294588 rows x 11 columns]\n"
          ]
        }
      ]
    },
    {
      "cell_type": "code",
      "source": [
        "# Convert 'date' column to datetime type\n",
        "merged_data_df['date'] = pd.to_datetime(merged_data_df['date'])\n",
        "\n",
        "# Sort the data by 'credit_card' and 'date' columns\n",
        "merged_data_df.sort_values(['credit_card', 'date'], inplace=True)\n",
        "\n",
        "# Calculate the time difference between consecutive rows for each credit card\n",
        "merged_data_df['time_diff'] = merged_data_df.groupby('credit_card')['date'].diff()\n",
        "\n",
        "# Convert the time difference to seconds\n",
        "merged_data_df['time_diff_seconds'] = merged_data_df['time_diff'].dt.total_seconds()\n",
        "\n",
        "print(merged_data_df)"
      ],
      "metadata": {
        "colab": {
          "base_uri": "https://localhost:8080/"
        },
        "id": "1htC9iUfr2vB",
        "outputId": "937b0024-0bef-4558-dcc1-eee7124cc4e3"
      },
      "execution_count": 4,
      "outputs": [
        {
          "output_type": "stream",
          "name": "stdout",
          "text": [
            "             credit_card                date  transaction_dollar_amount  \\\n",
            "38      1003715054175576 2015-07-31 20:03:05                      45.52   \n",
            "194     1003715054175576 2015-07-31 20:25:28                      96.10   \n",
            "107     1003715054175576 2015-07-31 23:09:32                      20.94   \n",
            "124     1003715054175576 2015-08-01 10:48:03                      51.27   \n",
            "137     1003715054175576 2015-08-01 17:43:43                     127.99   \n",
            "...                  ...                 ...                        ...   \n",
            "294582  9999757432802760 2015-10-23 20:47:23                     216.30   \n",
            "294503  9999757432802760 2015-10-24 01:12:54                     233.97   \n",
            "294508  9999757432802760 2015-10-25 21:53:33                     177.51   \n",
            "294519  9999757432802760 2015-10-27 21:38:09                     146.37   \n",
            "294514  9999757432802760 2015-10-29 21:56:30                     195.25   \n",
            "\n",
            "             Long        Lat        city state  zipcode  credit_card_limit  \\\n",
            "38     -80.186336  40.168399     Houston    PA    15342              20000   \n",
            "194    -80.156132  40.222907     Houston    PA    15342              20000   \n",
            "107    -80.262219  40.242532     Houston    PA    15342              20000   \n",
            "124    -80.176899  40.313324     Houston    PA    15342              20000   \n",
            "137    -80.226671  40.295995     Houston    PA    15342              20000   \n",
            "...           ...        ...         ...   ...      ...                ...   \n",
            "294582 -82.443294  32.991054  Louisville    GA    30434               6000   \n",
            "294503 -82.410848  32.934690  Louisville    GA    30434               6000   \n",
            "294508 -82.452819  32.997676  Louisville    GA    30434               6000   \n",
            "294519 -82.326567  32.952887  Louisville    GA    30434               6000   \n",
            "294514 -82.440314  33.061478  Louisville    GA    30434               6000   \n",
            "\n",
            "        Lat_most_occurred  Long_most_occurred       time_diff  \\\n",
            "38               40.26737          -80.174132             NaT   \n",
            "194              40.26737          -80.174132 0 days 00:22:23   \n",
            "107              40.26737          -80.174132 0 days 02:44:04   \n",
            "124              40.26737          -80.174132 0 days 11:38:31   \n",
            "137              40.26737          -80.174132 0 days 06:55:40   \n",
            "...                   ...                 ...             ...   \n",
            "294582           32.96222          -82.450841 0 days 01:32:33   \n",
            "294503           32.96222          -82.450841 0 days 04:25:31   \n",
            "294508           32.96222          -82.450841 1 days 20:40:39   \n",
            "294519           32.96222          -82.450841 1 days 23:44:36   \n",
            "294514           32.96222          -82.450841 2 days 00:18:21   \n",
            "\n",
            "        time_diff_seconds  \n",
            "38                    NaN  \n",
            "194                1343.0  \n",
            "107                9844.0  \n",
            "124               41911.0  \n",
            "137               24940.0  \n",
            "...                   ...  \n",
            "294582             5553.0  \n",
            "294503            15931.0  \n",
            "294508           160839.0  \n",
            "294519           171876.0  \n",
            "294514           173901.0  \n",
            "\n",
            "[294588 rows x 13 columns]\n"
          ]
        }
      ]
    },
    {
      "cell_type": "code",
      "source": [
        "# Convert the date column to datetime if it's not already in datetime format\n",
        "merged_data_df['date'] = pd.to_datetime(merged_data_df['date'])\n",
        "\n",
        "# Filter the rows based on the date range\n",
        "merged_data_df = merged_data_df[(merged_data_df['date'] >= '2015-08-01') & (merged_data_df['date'] <= '2015-10-30')]\n",
        "\n",
        "# Print the filtered data\n",
        "print(merged_data_df)\n"
      ],
      "metadata": {
        "colab": {
          "base_uri": "https://localhost:8080/"
        },
        "id": "YyaU2nhFajOW",
        "outputId": "bfd36691-b393-41fd-e663-db933eb8aa2b"
      },
      "execution_count": 5,
      "outputs": [
        {
          "output_type": "stream",
          "name": "stdout",
          "text": [
            "             credit_card                date  transaction_dollar_amount  \\\n",
            "124     1003715054175576 2015-08-01 10:48:03                      51.27   \n",
            "137     1003715054175576 2015-08-01 17:43:43                     127.99   \n",
            "80      1003715054175576 2015-08-01 17:44:19                      96.97   \n",
            "103     1003715054175576 2015-08-01 19:10:09                      97.35   \n",
            "81      1003715054175576 2015-08-02 19:39:29                     131.43   \n",
            "...                  ...                 ...                        ...   \n",
            "294582  9999757432802760 2015-10-23 20:47:23                     216.30   \n",
            "294503  9999757432802760 2015-10-24 01:12:54                     233.97   \n",
            "294508  9999757432802760 2015-10-25 21:53:33                     177.51   \n",
            "294519  9999757432802760 2015-10-27 21:38:09                     146.37   \n",
            "294514  9999757432802760 2015-10-29 21:56:30                     195.25   \n",
            "\n",
            "             Long        Lat        city state  zipcode  credit_card_limit  \\\n",
            "124    -80.176899  40.313324     Houston    PA    15342              20000   \n",
            "137    -80.226671  40.295995     Houston    PA    15342              20000   \n",
            "80     -80.144866  40.286490     Houston    PA    15342              20000   \n",
            "103    -80.163659  40.203355     Houston    PA    15342              20000   \n",
            "81     -80.217836  40.224044     Houston    PA    15342              20000   \n",
            "...           ...        ...         ...   ...      ...                ...   \n",
            "294582 -82.443294  32.991054  Louisville    GA    30434               6000   \n",
            "294503 -82.410848  32.934690  Louisville    GA    30434               6000   \n",
            "294508 -82.452819  32.997676  Louisville    GA    30434               6000   \n",
            "294519 -82.326567  32.952887  Louisville    GA    30434               6000   \n",
            "294514 -82.440314  33.061478  Louisville    GA    30434               6000   \n",
            "\n",
            "        Lat_most_occurred  Long_most_occurred       time_diff  \\\n",
            "124              40.26737          -80.174132 0 days 11:38:31   \n",
            "137              40.26737          -80.174132 0 days 06:55:40   \n",
            "80               40.26737          -80.174132 0 days 00:00:36   \n",
            "103              40.26737          -80.174132 0 days 01:25:50   \n",
            "81               40.26737          -80.174132 1 days 00:29:20   \n",
            "...                   ...                 ...             ...   \n",
            "294582           32.96222          -82.450841 0 days 01:32:33   \n",
            "294503           32.96222          -82.450841 0 days 04:25:31   \n",
            "294508           32.96222          -82.450841 1 days 20:40:39   \n",
            "294519           32.96222          -82.450841 1 days 23:44:36   \n",
            "294514           32.96222          -82.450841 2 days 00:18:21   \n",
            "\n",
            "        time_diff_seconds  \n",
            "124               41911.0  \n",
            "137               24940.0  \n",
            "80                   36.0  \n",
            "103                5150.0  \n",
            "81                88160.0  \n",
            "...                   ...  \n",
            "294582             5553.0  \n",
            "294503            15931.0  \n",
            "294508           160839.0  \n",
            "294519           171876.0  \n",
            "294514           173901.0  \n",
            "\n",
            "[289537 rows x 13 columns]\n"
          ]
        }
      ]
    },
    {
      "cell_type": "code",
      "source": [
        "# Replace 'NaT' values in 'time_diff' column with 0\n",
        "merged_data_df['time_diff'].fillna(pd.Timedelta(seconds=0), inplace=True)\n",
        "\n",
        "# Replace 'NaN' values in 'time_diff_seconds' column with 0\n",
        "merged_data_df['time_diff_seconds'].fillna(0, inplace=True)\n",
        "\n",
        "print(merged_data_df)"
      ],
      "metadata": {
        "colab": {
          "base_uri": "https://localhost:8080/"
        },
        "id": "wDSDJVDQtXo4",
        "outputId": "92c0fa7c-a9a7-4a8c-b61b-209f17d94112"
      },
      "execution_count": 6,
      "outputs": [
        {
          "output_type": "stream",
          "name": "stdout",
          "text": [
            "             credit_card                date  transaction_dollar_amount  \\\n",
            "124     1003715054175576 2015-08-01 10:48:03                      51.27   \n",
            "137     1003715054175576 2015-08-01 17:43:43                     127.99   \n",
            "80      1003715054175576 2015-08-01 17:44:19                      96.97   \n",
            "103     1003715054175576 2015-08-01 19:10:09                      97.35   \n",
            "81      1003715054175576 2015-08-02 19:39:29                     131.43   \n",
            "...                  ...                 ...                        ...   \n",
            "294582  9999757432802760 2015-10-23 20:47:23                     216.30   \n",
            "294503  9999757432802760 2015-10-24 01:12:54                     233.97   \n",
            "294508  9999757432802760 2015-10-25 21:53:33                     177.51   \n",
            "294519  9999757432802760 2015-10-27 21:38:09                     146.37   \n",
            "294514  9999757432802760 2015-10-29 21:56:30                     195.25   \n",
            "\n",
            "             Long        Lat        city state  zipcode  credit_card_limit  \\\n",
            "124    -80.176899  40.313324     Houston    PA    15342              20000   \n",
            "137    -80.226671  40.295995     Houston    PA    15342              20000   \n",
            "80     -80.144866  40.286490     Houston    PA    15342              20000   \n",
            "103    -80.163659  40.203355     Houston    PA    15342              20000   \n",
            "81     -80.217836  40.224044     Houston    PA    15342              20000   \n",
            "...           ...        ...         ...   ...      ...                ...   \n",
            "294582 -82.443294  32.991054  Louisville    GA    30434               6000   \n",
            "294503 -82.410848  32.934690  Louisville    GA    30434               6000   \n",
            "294508 -82.452819  32.997676  Louisville    GA    30434               6000   \n",
            "294519 -82.326567  32.952887  Louisville    GA    30434               6000   \n",
            "294514 -82.440314  33.061478  Louisville    GA    30434               6000   \n",
            "\n",
            "        Lat_most_occurred  Long_most_occurred       time_diff  \\\n",
            "124              40.26737          -80.174132 0 days 11:38:31   \n",
            "137              40.26737          -80.174132 0 days 06:55:40   \n",
            "80               40.26737          -80.174132 0 days 00:00:36   \n",
            "103              40.26737          -80.174132 0 days 01:25:50   \n",
            "81               40.26737          -80.174132 1 days 00:29:20   \n",
            "...                   ...                 ...             ...   \n",
            "294582           32.96222          -82.450841 0 days 01:32:33   \n",
            "294503           32.96222          -82.450841 0 days 04:25:31   \n",
            "294508           32.96222          -82.450841 1 days 20:40:39   \n",
            "294519           32.96222          -82.450841 1 days 23:44:36   \n",
            "294514           32.96222          -82.450841 2 days 00:18:21   \n",
            "\n",
            "        time_diff_seconds  \n",
            "124               41911.0  \n",
            "137               24940.0  \n",
            "80                   36.0  \n",
            "103                5150.0  \n",
            "81                88160.0  \n",
            "...                   ...  \n",
            "294582             5553.0  \n",
            "294503            15931.0  \n",
            "294508           160839.0  \n",
            "294519           171876.0  \n",
            "294514           173901.0  \n",
            "\n",
            "[289537 rows x 13 columns]\n"
          ]
        },
        {
          "output_type": "stream",
          "name": "stderr",
          "text": [
            "<ipython-input-6-0ea15fa00bbf>:2: SettingWithCopyWarning: \n",
            "A value is trying to be set on a copy of a slice from a DataFrame\n",
            "\n",
            "See the caveats in the documentation: https://pandas.pydata.org/pandas-docs/stable/user_guide/indexing.html#returning-a-view-versus-a-copy\n",
            "  merged_data_df['time_diff'].fillna(pd.Timedelta(seconds=0), inplace=True)\n",
            "<ipython-input-6-0ea15fa00bbf>:5: SettingWithCopyWarning: \n",
            "A value is trying to be set on a copy of a slice from a DataFrame\n",
            "\n",
            "See the caveats in the documentation: https://pandas.pydata.org/pandas-docs/stable/user_guide/indexing.html#returning-a-view-versus-a-copy\n",
            "  merged_data_df['time_diff_seconds'].fillna(0, inplace=True)\n"
          ]
        }
      ]
    },
    {
      "cell_type": "code",
      "source": [
        "# Apply the fraud conditions and assign the fraud labels\n",
        "merged_data_df['Fraud_Label'] = np.where((abs(merged_data_df['Lat'] - merged_data_df['Lat_most_occurred']) > 30) |\n",
        "                                         (abs(merged_data_df['Long'] - merged_data_df['Long_most_occurred']) > 40) |\n",
        "                                      (merged_data_df['transaction_dollar_amount'] > 450) |\n",
        "                                         ((merged_data_df['time_diff_seconds'] > 0) &\n",
        "                                      (merged_data_df['time_diff_seconds'] <= 1000)),\n",
        "                                      1, 0)\n",
        "print(merged_data_df)\n"
      ],
      "metadata": {
        "colab": {
          "base_uri": "https://localhost:8080/"
        },
        "id": "pPuxCebhSQvi",
        "outputId": "d34e62fd-c5db-45d4-e859-474858809ace"
      },
      "execution_count": 7,
      "outputs": [
        {
          "output_type": "stream",
          "name": "stdout",
          "text": [
            "             credit_card                date  transaction_dollar_amount  \\\n",
            "124     1003715054175576 2015-08-01 10:48:03                      51.27   \n",
            "137     1003715054175576 2015-08-01 17:43:43                     127.99   \n",
            "80      1003715054175576 2015-08-01 17:44:19                      96.97   \n",
            "103     1003715054175576 2015-08-01 19:10:09                      97.35   \n",
            "81      1003715054175576 2015-08-02 19:39:29                     131.43   \n",
            "...                  ...                 ...                        ...   \n",
            "294582  9999757432802760 2015-10-23 20:47:23                     216.30   \n",
            "294503  9999757432802760 2015-10-24 01:12:54                     233.97   \n",
            "294508  9999757432802760 2015-10-25 21:53:33                     177.51   \n",
            "294519  9999757432802760 2015-10-27 21:38:09                     146.37   \n",
            "294514  9999757432802760 2015-10-29 21:56:30                     195.25   \n",
            "\n",
            "             Long        Lat        city state  zipcode  credit_card_limit  \\\n",
            "124    -80.176899  40.313324     Houston    PA    15342              20000   \n",
            "137    -80.226671  40.295995     Houston    PA    15342              20000   \n",
            "80     -80.144866  40.286490     Houston    PA    15342              20000   \n",
            "103    -80.163659  40.203355     Houston    PA    15342              20000   \n",
            "81     -80.217836  40.224044     Houston    PA    15342              20000   \n",
            "...           ...        ...         ...   ...      ...                ...   \n",
            "294582 -82.443294  32.991054  Louisville    GA    30434               6000   \n",
            "294503 -82.410848  32.934690  Louisville    GA    30434               6000   \n",
            "294508 -82.452819  32.997676  Louisville    GA    30434               6000   \n",
            "294519 -82.326567  32.952887  Louisville    GA    30434               6000   \n",
            "294514 -82.440314  33.061478  Louisville    GA    30434               6000   \n",
            "\n",
            "        Lat_most_occurred  Long_most_occurred       time_diff  \\\n",
            "124              40.26737          -80.174132 0 days 11:38:31   \n",
            "137              40.26737          -80.174132 0 days 06:55:40   \n",
            "80               40.26737          -80.174132 0 days 00:00:36   \n",
            "103              40.26737          -80.174132 0 days 01:25:50   \n",
            "81               40.26737          -80.174132 1 days 00:29:20   \n",
            "...                   ...                 ...             ...   \n",
            "294582           32.96222          -82.450841 0 days 01:32:33   \n",
            "294503           32.96222          -82.450841 0 days 04:25:31   \n",
            "294508           32.96222          -82.450841 1 days 20:40:39   \n",
            "294519           32.96222          -82.450841 1 days 23:44:36   \n",
            "294514           32.96222          -82.450841 2 days 00:18:21   \n",
            "\n",
            "        time_diff_seconds  Fraud_Label  \n",
            "124               41911.0            0  \n",
            "137               24940.0            0  \n",
            "80                   36.0            1  \n",
            "103                5150.0            0  \n",
            "81                88160.0            0  \n",
            "...                   ...          ...  \n",
            "294582             5553.0            0  \n",
            "294503            15931.0            0  \n",
            "294508           160839.0            0  \n",
            "294519           171876.0            0  \n",
            "294514           173901.0            0  \n",
            "\n",
            "[289537 rows x 14 columns]\n"
          ]
        }
      ]
    },
    {
      "cell_type": "code",
      "source": [
        "# count no of labels with 1\n",
        "count_labels_1 = merged_data_df['Fraud_Label'].sum()\n",
        "print(\"Number of labels with value 1:\", count_labels_1)"
      ],
      "metadata": {
        "colab": {
          "base_uri": "https://localhost:8080/"
        },
        "id": "7RuoimUncdW6",
        "outputId": "f06755f4-031e-4a5c-8067-db14fb65b333"
      },
      "execution_count": 8,
      "outputs": [
        {
          "output_type": "stream",
          "name": "stdout",
          "text": [
            "Number of labels with value 1: 50885\n"
          ]
        }
      ]
    },
    {
      "cell_type": "code",
      "source": [
        "# design a dataset by eliminating credit card, date, state, city for model building\n",
        "data_df = merged_data_df[['transaction_dollar_amount','Lat','Long',\n",
        "                          'credit_card_limit','Fraud_Label']]\n",
        "print(data_df)"
      ],
      "metadata": {
        "colab": {
          "base_uri": "https://localhost:8080/"
        },
        "id": "97IQZVcCyByr",
        "outputId": "083e638b-cb04-471f-c1bc-5ca9c5821ffc"
      },
      "execution_count": 9,
      "outputs": [
        {
          "output_type": "stream",
          "name": "stdout",
          "text": [
            "        transaction_dollar_amount        Lat       Long  credit_card_limit  \\\n",
            "124                         51.27  40.313324 -80.176899              20000   \n",
            "137                        127.99  40.295995 -80.226671              20000   \n",
            "80                          96.97  40.286490 -80.144866              20000   \n",
            "103                         97.35  40.203355 -80.163659              20000   \n",
            "81                         131.43  40.224044 -80.217836              20000   \n",
            "...                           ...        ...        ...                ...   \n",
            "294582                     216.30  32.991054 -82.443294               6000   \n",
            "294503                     233.97  32.934690 -82.410848               6000   \n",
            "294508                     177.51  32.997676 -82.452819               6000   \n",
            "294519                     146.37  32.952887 -82.326567               6000   \n",
            "294514                     195.25  33.061478 -82.440314               6000   \n",
            "\n",
            "        Fraud_Label  \n",
            "124               0  \n",
            "137               0  \n",
            "80                1  \n",
            "103               0  \n",
            "81                0  \n",
            "...             ...  \n",
            "294582            0  \n",
            "294503            0  \n",
            "294508            0  \n",
            "294519            0  \n",
            "294514            0  \n",
            "\n",
            "[289537 rows x 5 columns]\n"
          ]
        }
      ]
    },
    {
      "cell_type": "code",
      "source": [
        "# checking the datatype and unique value of Fraud_Label\n",
        "unique_values = data_df['Fraud_Label'].unique()\n",
        "print(unique_values)\n",
        "print(data_df['Fraud_Label'].dtype)"
      ],
      "metadata": {
        "colab": {
          "base_uri": "https://localhost:8080/"
        },
        "id": "5e8KO9GgQeAC",
        "outputId": "8318a8ee-be5d-4163-e857-bddad9fe3800"
      },
      "execution_count": 10,
      "outputs": [
        {
          "output_type": "stream",
          "name": "stdout",
          "text": [
            "[0 1]\n",
            "int64\n"
          ]
        }
      ]
    },
    {
      "cell_type": "code",
      "source": [
        "# Perform Mann-Whitney U Test to decide the significance of features on Fraud Label\n",
        "import scipy.stats as stats\n",
        "\n",
        "fraud_data = data_df[data_df['Fraud_Label'] == 1]\n",
        "non_fraud_data = data_df[data_df['Fraud_Label'] == 0]\n",
        "\n",
        "feature = ['transaction_dollar_amount', 'Lat', 'Long', 'credit_card_limit']\n",
        "\n",
        "for i in feature:\n",
        "  statistic, p_value = stats.mannwhitneyu(fraud_data[i], non_fraud_data[i])\n",
        "\n",
        "  print(\"Mann-Whitney U test results:\")\n",
        "  print(f\"Statistic: {statistic}\")\n",
        "  print(f\"P-value: {p_value}\")"
      ],
      "metadata": {
        "colab": {
          "base_uri": "https://localhost:8080/"
        },
        "id": "HWmOkZbe2C0W",
        "outputId": "0925e9c0-f724-4c9b-b6d4-f7374271a4f1"
      },
      "execution_count": 11,
      "outputs": [
        {
          "output_type": "stream",
          "name": "stdout",
          "text": [
            "Mann-Whitney U test results:\n",
            "Statistic: 6925665188.5\n",
            "P-value: 0.0\n",
            "Mann-Whitney U test results:\n",
            "Statistic: 6092647125.0\n",
            "P-value: 0.2255741046220866\n",
            "Mann-Whitney U test results:\n",
            "Statistic: 6646436443.0\n",
            "P-value: 5.601983823859275e-247\n",
            "Mann-Whitney U test results:\n",
            "Statistic: 6929378221.0\n",
            "P-value: 0.0\n"
          ]
        }
      ]
    },
    {
      "cell_type": "code",
      "source": [
        "# Perform the fraud detection with NN\n",
        "class FraudDetectionModel:\n",
        "    def __init__(self, data_df):\n",
        "        # initializing the data, feature, target, model and train,test, validation data\n",
        "        self.data_df = data_df\n",
        "        self.features = ['transaction_dollar_amount',  'Long', 'credit_card_limit']\n",
        "        self.target = 'Fraud_Label'\n",
        "        self.X_train, self.X_val, self.X_test, self.y_train, self.y_val, self.y_test = self._prepare_data()\n",
        "        self.model = self._build_model()\n",
        "\n",
        "    def _prepare_data(self):\n",
        "        # Split the data into training and testing sets\n",
        "        X = self.data_df[self.features]\n",
        "        y = self.data_df[self.target]\n",
        "        X_train, X_test, y_train, y_test = train_test_split(X, y, test_size=0.2, random_state=42)\n",
        "        X_train, X_val, y_train, y_val = train_test_split(X_train, y_train, test_size=0.2,\n",
        "                                                          random_state=42)\n",
        "        # Scale the features\n",
        "        scaler = StandardScaler()\n",
        "        X_train = scaler.fit_transform(X_train)\n",
        "        X_val = scaler.fit_transform(X_val)\n",
        "        X_test = scaler.transform(X_test)\n",
        "        class_counts = pd.Series(y_train).value_counts()\n",
        "        print('class count of y_train:',class_counts)\n",
        "\n",
        "        return X_train, X_val, X_test, y_train, y_val, y_test\n",
        "\n",
        "    def _build_model(self):\n",
        "        # Build a neural network model\n",
        "        model = tf.keras.models.Sequential([\n",
        "            tf.keras.layers.Dense(128, activation='relu',\n",
        "                                  input_shape=(len(self.features),),\n",
        "                                  kernel_regularizer=l1(0.001)),\n",
        "            tf.keras.layers.Dense(64, activation='relu'),\n",
        "            tf.keras.layers.Dense(1, activation='sigmoid')\n",
        "        ])\n",
        "\n",
        "        # Compile the model\n",
        "        model.compile(optimizer='adam', loss='binary_crossentropy', metrics=['accuracy'])\n",
        "\n",
        "        return model\n",
        "\n",
        "    def train(self, epochs=10, batch_size=64):\n",
        "        # Define early stopping callback\n",
        "        early_stopping = EarlyStopping(monitor='val_loss', patience=3,\n",
        "                                       restore_best_weights=True)\n",
        "\n",
        "        # Train the model\n",
        "        self.model.fit(self.X_train, self.y_train, epochs=epochs,\n",
        "                       validation_data=(self.X_val, self.y_val),\n",
        "                       batch_size=batch_size,\n",
        "                       callbacks=[early_stopping],\n",
        "                       verbose=1)\n",
        "\n",
        "    def evaluate(self):\n",
        "        # Evaluate the model\n",
        "        loss, accuracy = self.model.evaluate(self.X_test, self.y_test, verbose=0)\n",
        "        print('Test Loss:', loss)\n",
        "        print('Test Accuracy:', accuracy)\n",
        "        y_pred_prob = self.model.predict(self.X_test)\n",
        "        y_pred = (y_pred_prob >= 0.5).astype(int)\n",
        "\n",
        "        precision = precision_score(self.y_test, y_pred)\n",
        "        recall = recall_score(self.y_test, y_pred)\n",
        "        f1 = f1_score(self.y_test, y_pred)\n",
        "        print('Precision:', precision)\n",
        "        print('Recall:', recall)\n",
        "        print('F1 Score:', f1)\n",
        "\n",
        "        cm = confusion_matrix(self.y_test, y_pred)\n",
        "        print('Confusion Matrix:')\n",
        "        print(cm)\n",
        "\n",
        "\n",
        "\n",
        "# Create an instance of the FraudDetectionModel\n",
        "model = FraudDetectionModel(data_df)\n",
        "\n",
        "# Train the model\n",
        "model.train(epochs=10, batch_size=32)\n",
        "\n",
        "# Evaluate the model\n",
        "model.evaluate()\n",
        "\n"
      ],
      "metadata": {
        "colab": {
          "base_uri": "https://localhost:8080/"
        },
        "id": "fezf_bAQ56VV",
        "outputId": "15e87e64-a2fe-4256-bef7-406624a12743"
      },
      "execution_count": 12,
      "outputs": [
        {
          "output_type": "stream",
          "name": "stdout",
          "text": [
            "class count of y_train: 0    152756\n",
            "1     32547\n",
            "Name: Fraud_Label, dtype: int64\n",
            "Epoch 1/10\n",
            "5791/5791 [==============================] - 32s 5ms/step - loss: 0.4088 - accuracy: 0.8575 - val_loss: 0.4014 - val_accuracy: 0.8583\n",
            "Epoch 2/10\n",
            "5791/5791 [==============================] - 19s 3ms/step - loss: 0.4011 - accuracy: 0.8584 - val_loss: 0.4003 - val_accuracy: 0.8583\n",
            "Epoch 3/10\n",
            "5791/5791 [==============================] - 15s 3ms/step - loss: 0.4005 - accuracy: 0.8582 - val_loss: 0.4015 - val_accuracy: 0.8584\n",
            "Epoch 4/10\n",
            "5791/5791 [==============================] - 15s 3ms/step - loss: 0.3998 - accuracy: 0.8584 - val_loss: 0.3997 - val_accuracy: 0.8584\n",
            "Epoch 5/10\n",
            "5791/5791 [==============================] - 15s 3ms/step - loss: 0.3997 - accuracy: 0.8584 - val_loss: 0.3999 - val_accuracy: 0.8584\n",
            "Epoch 6/10\n",
            "5791/5791 [==============================] - 15s 3ms/step - loss: 0.3996 - accuracy: 0.8584 - val_loss: 0.4007 - val_accuracy: 0.8585\n",
            "Epoch 7/10\n",
            "5791/5791 [==============================] - 20s 3ms/step - loss: 0.3994 - accuracy: 0.8585 - val_loss: 0.3993 - val_accuracy: 0.8584\n",
            "Epoch 8/10\n",
            "5791/5791 [==============================] - 15s 3ms/step - loss: 0.3992 - accuracy: 0.8585 - val_loss: 0.3991 - val_accuracy: 0.8585\n",
            "Epoch 9/10\n",
            "5791/5791 [==============================] - 15s 3ms/step - loss: 0.3989 - accuracy: 0.8585 - val_loss: 0.3986 - val_accuracy: 0.8585\n",
            "Epoch 10/10\n",
            "5791/5791 [==============================] - 15s 3ms/step - loss: 0.3984 - accuracy: 0.8585 - val_loss: 0.3981 - val_accuracy: 0.8585\n",
            "Test Loss: 0.4012356698513031\n",
            "Test Accuracy: 0.8568418622016907\n",
            "1810/1810 [==============================] - 2s 1ms/step\n",
            "Precision: 0.9974541751527495\n",
            "Recall: 0.19123389301054275\n",
            "F1 Score: 0.3209370904325033\n",
            "Confusion Matrix:\n",
            "[[47659     5]\n",
            " [ 8285  1959]]\n"
          ]
        }
      ]
    },
    {
      "cell_type": "markdown",
      "source": [
        "As the model got overfitted due to data imbalancy, we are now going with oversampling techniques to balance the 0,1 in target label and apply the NN model"
      ],
      "metadata": {
        "id": "PLv4TE9E3U2N"
      }
    },
    {
      "cell_type": "code",
      "source": [
        "class FraudDetectionModel:\n",
        "    def __init__(self, data_df):\n",
        "        self.data_df = data_df\n",
        "        self.features = ['transaction_dollar_amount', 'Long', 'credit_card_limit']\n",
        "        self.target = 'Fraud_Label'\n",
        "        self.X_train, self.X_val, self.X_test, self.y_train, self.y_val, self.y_test = self._prepare_data()\n",
        "        self.model = self._build_model()\n",
        "\n",
        "    def _prepare_data(self):\n",
        "        # Separate features and target\n",
        "        X = self.data_df[self.features].values\n",
        "        y = self.data_df[self.target].values\n",
        "\n",
        "        # Split data into training, validation, and testing sets\n",
        "        X_train_val, X_test, y_train_val, y_test = train_test_split(X, y, test_size=0.2, random_state=42)\n",
        "        X_train, X_val, y_train, y_val = train_test_split(X_train_val, y_train_val, test_size=0.2, random_state=42)\n",
        "\n",
        "        # Apply ADASYN oversampling\n",
        "        adasyn = ADASYN(random_state=42)\n",
        "        X_train_resampled, y_train_resampled = adasyn.fit_resample(X_train, y_train)\n",
        "\n",
        "        # Scale the features\n",
        "        scaler = StandardScaler()\n",
        "        X_train_resampled = scaler.fit_transform(X_train_resampled)\n",
        "        X_val = scaler.transform(X_val)\n",
        "        X_test = scaler.transform(X_test)\n",
        "        class_counts = pd.Series(y_train_resampled).value_counts()\n",
        "        print('class count of y_train:',class_counts)\n",
        "        return X_train_resampled, X_val, X_test, y_train_resampled, y_val, y_test\n",
        "\n",
        "    def _build_model(self):\n",
        "        # Build a neural network model\n",
        "        model = Sequential()\n",
        "        model.add(Dense(64, activation='relu', input_shape=(len(self.features),), kernel_regularizer=l1(0.001)))\n",
        "        model.add(Dropout(0.5))\n",
        "        model.add(Dense(64, activation='relu'))\n",
        "        model.add(Dropout(0.5))\n",
        "        model.add(Dense(1, activation='sigmoid'))\n",
        "\n",
        "        # Compile the model\n",
        "        model.compile(loss='binary_crossentropy', optimizer=Adam(learning_rate=0.001), metrics=['accuracy'])\n",
        "\n",
        "        return model\n",
        "\n",
        "    def train(self, epochs=10, batch_size=64):\n",
        "        # Train the model\n",
        "        self.model.fit(self.X_train, self.y_train, epochs=epochs, batch_size=batch_size, validation_data=(self.X_val, self.y_val))\n",
        "\n",
        "    def evaluate(self):\n",
        "        # Evaluate the model\n",
        "        loss, accuracy = self.model.evaluate(self.X_test, self.y_test)\n",
        "        print(\"Test Loss:\", loss)\n",
        "        print(\"Test Accuracy:\", accuracy)\n",
        "        y_pred_prob = self.model.predict(self.X_test)\n",
        "        y_pred = (y_pred_prob >= 0.5).astype(int)\n",
        "        precision = precision_score(self.y_test, y_pred)\n",
        "        recall = recall_score(self.y_test, y_pred)\n",
        "        f1 = f1_score(self.y_test, y_pred)\n",
        "        print('Precision:', precision)\n",
        "        print('Recall:', recall)\n",
        "        print('F1 Score:', f1)\n",
        "\n",
        "        cm = confusion_matrix(self.y_test, y_pred)\n",
        "        print('Confusion Matrix:')\n",
        "        print(cm)\n",
        "\n",
        "\n",
        "# Prepare the data\n",
        "data_df = data_df[['transaction_dollar_amount', 'Long', 'credit_card_limit', 'Fraud_Label']]\n",
        "\n",
        "# Create an instance of the FraudDetectionModel class\n",
        "model = FraudDetectionModel(data_df)\n",
        "\n",
        "# Train the model\n",
        "model.train()\n",
        "\n",
        "# Evaluate the model\n",
        "model.evaluate()\n"
      ],
      "metadata": {
        "colab": {
          "base_uri": "https://localhost:8080/"
        },
        "id": "Co4hDzPF_gdp",
        "outputId": "ed9a727d-52f4-427c-f94a-392d24b613e4"
      },
      "execution_count": 17,
      "outputs": [
        {
          "output_type": "stream",
          "name": "stdout",
          "text": [
            "class count of y_train: 1    157495\n",
            "0    152756\n",
            "dtype: int64\n",
            "Epoch 1/10\n",
            "4848/4848 [==============================] - 20s 4ms/step - loss: 0.6841 - accuracy: 0.5472 - val_loss: 0.6704 - val_accuracy: 0.5200\n",
            "Epoch 2/10\n",
            "4848/4848 [==============================] - 15s 3ms/step - loss: 0.6778 - accuracy: 0.5500 - val_loss: 0.6671 - val_accuracy: 0.5165\n",
            "Epoch 3/10\n",
            "4848/4848 [==============================] - 13s 3ms/step - loss: 0.6776 - accuracy: 0.5500 - val_loss: 0.6659 - val_accuracy: 0.5158\n",
            "Epoch 4/10\n",
            "4848/4848 [==============================] - 13s 3ms/step - loss: 0.6773 - accuracy: 0.5499 - val_loss: 0.6493 - val_accuracy: 0.5768\n",
            "Epoch 5/10\n",
            "4848/4848 [==============================] - 14s 3ms/step - loss: 0.6772 - accuracy: 0.5506 - val_loss: 0.6677 - val_accuracy: 0.5335\n",
            "Epoch 6/10\n",
            "4848/4848 [==============================] - 14s 3ms/step - loss: 0.6774 - accuracy: 0.5503 - val_loss: 0.6573 - val_accuracy: 0.5316\n",
            "Epoch 7/10\n",
            "4848/4848 [==============================] - 14s 3ms/step - loss: 0.6775 - accuracy: 0.5505 - val_loss: 0.6472 - val_accuracy: 0.5508\n",
            "Epoch 8/10\n",
            "4848/4848 [==============================] - 14s 3ms/step - loss: 0.6778 - accuracy: 0.5509 - val_loss: 0.6562 - val_accuracy: 0.5236\n",
            "Epoch 9/10\n",
            "4848/4848 [==============================] - 20s 4ms/step - loss: 0.6772 - accuracy: 0.5504 - val_loss: 0.6675 - val_accuracy: 0.5305\n",
            "Epoch 10/10\n",
            "4848/4848 [==============================] - 16s 3ms/step - loss: 0.6774 - accuracy: 0.5498 - val_loss: 0.6621 - val_accuracy: 0.5592\n",
            "1810/1810 [==============================] - 3s 2ms/step - loss: 0.6619 - accuracy: 0.5560\n",
            "Test Loss: 0.6619413495063782\n",
            "Test Accuracy: 0.5559853315353394\n",
            "1810/1810 [==============================] - 2s 1ms/step\n",
            "Precision: 0.23162606704143243\n",
            "Recall: 0.6516009371339321\n",
            "F1 Score: 0.3417643745839947\n",
            "Confusion Matrix:\n",
            "[[25521 22143]\n",
            " [ 3569  6675]]\n"
          ]
        }
      ]
    },
    {
      "cell_type": "code",
      "source": [],
      "metadata": {
        "id": "PIx9Q8DhxTyG"
      },
      "execution_count": null,
      "outputs": []
    },
    {
      "cell_type": "code",
      "source": [],
      "metadata": {
        "id": "Lui1lAwFxkf0"
      },
      "execution_count": null,
      "outputs": []
    }
  ]
}